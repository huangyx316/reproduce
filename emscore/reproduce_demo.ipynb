{
 "cells": [
  {
   "cell_type": "code",
   "execution_count": 1,
   "metadata": {},
   "outputs": [
    {
     "name": "stdout",
     "output_type": "stream",
     "text": [
      "ActivityNet-FOIL_demo.py  extract_video_embeddings.py  reproduce_demo.ipynb\n",
      "demo.py                   LICENSE                      VATEX-EVAL-demo.py\n",
      "\u001b[0m\u001b[01;34memscore\u001b[0m/                  README.md\n"
     ]
    }
   ],
   "source": [
    "ls"
   ]
  },
  {
   "cell_type": "code",
   "execution_count": 1,
   "metadata": {},
   "outputs": [
    {
     "name": "stdout",
     "output_type": "stream",
     "text": [
      "['This', 'Ġis', 'Ġan', 'Ġexample', 'Ġsentence', '.']\n"
     ]
    }
   ],
   "source": [
    "from transformers import AutoTokenizer\n",
    "\n",
    "tokenizer = AutoTokenizer.from_pretrained(\"microsoft/unixcoder-base\")\n",
    "\n",
    "sentence = \"This is an example sentence.\"\n",
    "tokens = tokenizer.tokenize(sentence)\n",
    "\n",
    "print(tokens)\n"
   ]
  },
  {
   "cell_type": "code",
   "execution_count": 1,
   "metadata": {},
   "outputs": [
    {
     "name": "stdout",
     "output_type": "stream",
     "text": [
      "preparing IDF dict...\n",
      "计算idf\n",
      "<function tokenize at 0x7fdf3a63c040>\n",
      "输入一个文本内容 给process进行 tokenizer处理之后输出的数据是什么类型？\n",
      "处理前\n",
      "Two egg yolks are placed in food flavored white yolk on a pan until they are cooked.It is funny!\n",
      "<class 'str'>\n",
      "-----------\n",
      "处理后\n",
      "[49406, 1237, 5911, 19387, 662, 631, 9729, 530, 1559, 29350, 1579, 19387, 330, 525, 320, 7437, 1942, 889, 631, 11452, 269, 585, 533, 3789, 256, 49407, 0, 0, 0, 0, 0, 0, 0, 0, 0, 0, 0, 0, 0, 0, 0, 0, 0, 0, 0, 0, 0, 0, 0, 0, 0, 0, 0, 0, 0, 0, 0, 0, 0, 0, 0, 0, 0, 0, 0, 0, 0, 0, 0, 0, 0, 0, 0, 0, 0, 0, 0]\n",
      "<class 'list'>\n",
      "77\n",
      "--------换成unixcoder\n",
      "[0, 9058, 8380, 1423, 1168, 2258, 32, 2325, 11, 689, 35124, 1104, 1423, 14024, 15, 10, 5730, 454, 51, 32, 14166, 4, 243, 16, 6269, 328, 2]\n",
      "<class 'list'>\n",
      "27\n"
     ]
    },
    {
     "name": "stderr",
     "output_type": "stream",
     "text": [
      "  0%|          | 0/1 [00:00<?, ?it/s]"
     ]
    },
    {
     "name": "stdout",
     "output_type": "stream",
     "text": [
      "done in 0.99 seconds\n",
      "calculating EMScore scores...\n",
      "computing text embedding.\n"
     ]
    },
    {
     "name": "stderr",
     "output_type": "stream",
     "text": [
      "100%|██████████| 1/1 [00:02<00:00,  2.04s/it]\n",
      "100%|██████████| 1/1 [00:00<00:00, 450.81it/s]"
     ]
    },
    {
     "name": "stdout",
     "output_type": "stream",
     "text": [
      "computing greedy matching, references as ground truth.\n",
      "done in 2.05 seconds, 0.49 sentences/sec\n",
      "------------------------------------------------------------------------\n",
      "fine- and coarse-grained EMScore(X,X*), P: tensor([0.5961]), R:tensor([nan]), F:tensor([nan])\n"
     ]
    },
    {
     "name": "stderr",
     "output_type": "stream",
     "text": [
      "\n"
     ]
    }
   ],
   "source": [
    "from scorer import EMScorer\n",
    "\n",
    "\n",
    "if __name__ == '__main__':\n",
    "    # you video's path list\n",
    "    #vids = ['emscore/example/Bfyp0C02sko_000248_000258.mp4]\n",
    "    metric = EMScorer()\n",
    "    # the candidate caption\n",
    "    cands = ['A person is frying a pan of eggs that are colored pink and green.']\n",
    "    refs = ['Two egg yolks are placed in food flavored white yolk on a pan until they are cooked.It is funny!']\n",
    "    # refs = ['Two egg yolks are placed in food flavored white yolk on a pan until they are cooked.']\n",
    "    #results = metric.score(cands=cands, refs=refs, vids=vids, idf=False)\n",
    "    results = metric.score(cands=cands, refs=refs, idf=True)\n",
    "\n",
    "    \"\"\"\n",
    "    only use video as groud truth\n",
    "    \"\"\"\n",
    "    # print('------------------------------------------------------------------------')\n",
    "    # print('fine-grained EMScore(X,V), P: {}, R:{}, F:{}'.format(\n",
    "    #     results['EMScore(X,V)']['full_P'], results['EMScore(X,V)']['full_R'], results['EMScore(X,V)']['full_F']))\n",
    "    # print(\n",
    "    #     'coarse-grained EMScore(X,V), {}'.format(results['EMScore(X,V)']['cogr']))\n",
    "    # print('fine- and coarse-grained EMScore(X,V), P: {}, R:{}, F:{}'.format(\n",
    "    #     results['EMScore(X,V)']['full_P'], results['EMScore(X,V)']['full_R'], results['EMScore(X,V)']['full_F']))\n",
    "\n",
    "    \"\"\"\n",
    "    only use references as groud truth \n",
    "    \"\"\"\n",
    "    print('------------------------------------------------------------------------')\n",
    "    print('fine- and coarse-grained EMScore(X,X*), P: {}, R:{}, F:{}'.format(results['EMScore(X,X*)']['full_P'],\n",
    "          results['EMScore(X,X*)']['full_R'], results['EMScore(X,X*)']['full_F']))\n",
    "\n",
    "    \"\"\"\n",
    "    use both video and references as groud truth\n",
    "    \"\"\"\n",
    "    # print('------------------------------------------------------------------------')\n",
    "    # print('fine- and coarse-grained EMScore(X,V,X*), P: {}, R:{}, F:{}'.format(results['EMScore(X,V,X*)']['full_P'],\n",
    "    #       results['EMScore(X,V,X*)']['full_R'], results['EMScore(X,V,X*)']['full_F']))\n",
    "    # print()"
   ]
  }
 ],
 "metadata": {
  "kernelspec": {
   "display_name": "Python 3.8.8 ('base': conda)",
   "language": "python",
   "name": "python3"
  },
  "language_info": {
   "codemirror_mode": {
    "name": "ipython",
    "version": 3
   },
   "file_extension": ".py",
   "mimetype": "text/x-python",
   "name": "python",
   "nbconvert_exporter": "python",
   "pygments_lexer": "ipython3",
   "version": "3.8.8"
  },
  "orig_nbformat": 4,
  "vscode": {
   "interpreter": {
    "hash": "196005e07f823faab020780d1971fd9ef55151a4e2624f761e89102bc97b9bea"
   }
  }
 },
 "nbformat": 4,
 "nbformat_minor": 2
}
